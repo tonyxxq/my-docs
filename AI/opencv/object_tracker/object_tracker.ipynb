{
 "cells": [
  {
   "cell_type": "code",
   "execution_count": null,
   "metadata": {
    "collapsed": true
   },
   "outputs": [],
   "source": [
    "# 导入需要的包\n",
    "from imutils.video import VideoStream\n",
    "from imutils.video import FPS\n",
    "import argparse\n",
    "import imutils\n",
    "import time\n",
    "import cv2"
   ]
  },
  {
   "cell_type": "code",
   "execution_count": null,
   "metadata": {
    "collapsed": true,
    "scrolled": true
   },
   "outputs": [],
   "source": [
    "# construct the argument parser and parse the arguments\n",
    "\n",
    "# 传参数，在notebook报错了,所以没有使用这种方式\n",
    "#ap = argparse.ArgumentParser()\n",
    "#ap.add_argument(\"-v\", \"--video\", type=str,default=\"./race.mp4\",help=\"path to input video file\")\n",
    "#ap.add_argument(\"-t\", \"--tracker\", type=str, default=\"kcf\",help=\"OpenCV object tracker type\")\n",
    "#args = vars(ap.parse_args())\n",
    "\n",
    "args = {}\n",
    "args[\"tracker\"] = 'csrt'\n",
    "args[\"video\"]='./1.mp4'"
   ]
  },
  {
   "cell_type": "markdown",
   "metadata": {},
   "source": [
    "### 找到对应的opencv中的方法"
   ]
  },
  {
   "cell_type": "code",
   "execution_count": null,
   "metadata": {
    "scrolled": false
   },
   "outputs": [],
   "source": [
    "# 抽取出opencv的版本号\n",
    "(major, minor) = cv2.__version__.split(\".\")[:2]\n",
    " \n",
    "# if we are using OpenCV 3.2 OR BEFORE, we can use a special factory\n",
    "# function to create our object tracker\n",
    "if int(major) == 3 and int(minor) < 3:\n",
    "    tracker = cv2.Tracker_create(args[\"tracker\"].upper())\n",
    "    # otherwise, for OpenCV 3.3 OR NEWER, we need to explicity call the\n",
    "    # approrpiate object tracker constructor:\n",
    "else:\n",
    "    # initialize a dictionary that maps strings to their corresponding\n",
    "    # OpenCV object tracker implementations\n",
    "    OPENCV_OBJECT_TRACKERS = {\n",
    "        \"csrt\": cv2.TrackerCSRT_create,\n",
    "        \"kcf\": cv2.TrackerKCF_create,\n",
    "        \"boosting\": cv2.TrackerBoosting_create,\n",
    "        \"mil\": cv2.TrackerMIL_create,\n",
    "        \"tld\": cv2.TrackerTLD_create,\n",
    "        \"medianflow\": cv2.TrackerMedianFlow_create,\n",
    "        \"mosse\": cv2.TrackerMOSSE_create\n",
    "     }\n",
    "# grab the appropriate object tracker using our dictionary of\n",
    "# OpenCV object tracker objects\n",
    "tracker = OPENCV_OBJECT_TRACKERS[args[\"tracker\"]]()\n",
    " \n",
    "# initialize the bounding box coordinates of the object we are going\n",
    "# to track\n",
    "initBB = None"
   ]
  },
  {
   "cell_type": "markdown",
   "metadata": {},
   "source": [
    "### 获取视频，如果没有传视频参数，默认开启摄像头"
   ]
  },
  {
   "cell_type": "code",
   "execution_count": null,
   "metadata": {},
   "outputs": [],
   "source": [
    "# if a video path was not supplied, grab the reference to the web cam\n",
    "if not args.get(\"video\", False):\n",
    "    print(\"[INFO] starting video stream...\")\n",
    "    vs = VideoStream(src=0).start()\n",
    "    time.sleep(1.0)\n",
    "    # otherwise, grab a reference to the video file\n",
    "else:\n",
    "    vs = cv2.VideoCapture(args[\"video\"])\n",
    "# initialize the FPS throughput estimator\n",
    "fps = None"
   ]
  },
  {
   "cell_type": "markdown",
   "metadata": {},
   "source": [
    "### 读取视频中的每一帧图像， 调整图像的宽高，加速处理图像\n",
    "> 标注图像前先按下s键，标注完成按下enter或space,就可以追踪图像了"
   ]
  },
  {
   "cell_type": "code",
   "execution_count": null,
   "metadata": {},
   "outputs": [],
   "source": [
    "# loop over frames from the video stream\n",
    "while True:\n",
    "    # grab the current frame, then handle if we are using a\n",
    "    # VideoStream or VideoCapture object\n",
    "    frame = vs.read()\n",
    "    frame = frame[1] if args.get(\"video\", False) else frame\n",
    "    \n",
    "    # check to see if we have reached the end of the stream\n",
    "    if frame is None:\n",
    "        break\n",
    "    \n",
    "    # resize the frame (so we can process it faster) and grab the\n",
    "    # frame dimensions\n",
    "    frame = imutils.resize(frame, width=500)\n",
    "    (H, W) = frame.shape[:2]\n",
    "    if initBB is not None:\n",
    "        # grab the new bounding box coordinates of the object\n",
    "        (success, box) = tracker.update(frame)\n",
    "        \n",
    "        # check to see if the tracking was a success\n",
    "        if success:\n",
    "            (x, y, w, h) = [int(v) for v in box]\n",
    "            cv2.rectangle(frame, (x, y), (x + w, y + h), (0, 255, 0), 2)\n",
    "        \n",
    "        # update the FPS counter\n",
    "        fps.update()\n",
    "        fps.stop()\n",
    "        \n",
    "        # initialize the set of information we'll be displaying on the frame\n",
    "        info = [\n",
    "            (\"Tracker\", args[\"tracker\"]),\n",
    "            (\"Success\", \"Yes\" if success else \"No\"),\n",
    "            (\"FPS\", \"{:.2f}\".format(fps.fps())),\n",
    "        ]\n",
    "        \n",
    "        # loop over the info tuples and draw them on our frame\n",
    "        for (i, (k, v)) in enumerate(info):\n",
    "            text = \"{}: {}\".format(k, v)\n",
    "            cv2.putText(frame, text, (10, H - ((i * 20) + 20)), cv2.FONT_HERSHEY_SIMPLEX, 0.6, (0, 0, 255), 2)\n",
    "    # show the output frame\n",
    "    cv2.imshow(\"Frame\", frame)\n",
    "    key = cv2.waitKey(1) & 0xFF\n",
    "    \n",
    "    # if the 's' key is selected, we are going to \"select\" a bounding\n",
    "    # box to track\n",
    "    if key == ord(\"s\"):\n",
    "        # select the bounding box of the object we want to track (make\n",
    "        # sure you press ENTER or SPACE after selecting the ROI)\n",
    "        initBB = cv2.selectROI(\"Frame\", frame, fromCenter=False, showCrosshair=True)\n",
    "    \n",
    "        # start OpenCV object tracker using the supplied bounding box\n",
    "        # coordinates, then start the FPS throughput estimator as well\n",
    "        tracker.init(frame, initBB)\n",
    "        fps = FPS().start()\n",
    "        \n",
    "        # if the `q` key was pressed, break from the loop\n",
    "    elif key == ord(\"q\"):\n",
    "        break\n",
    "\n",
    "# if we are using a webcam, release the pointer\n",
    "if not args.get(\"video\", False):\n",
    "    vs.stop()\n",
    "\n",
    "# otherwise, release the file pointer\n",
    "else:\n",
    "    vs.release()\n",
    "\n",
    "# close all windows\n",
    "cv2.destroyAllWindows()"
   ]
  }
 ],
 "metadata": {
  "kernelspec": {
   "display_name": "python(dlnd)",
   "language": "python",
   "name": "dlnd"
  },
  "language_info": {
   "codemirror_mode": {
    "name": "ipython",
    "version": 3
   },
   "file_extension": ".py",
   "mimetype": "text/x-python",
   "name": "python",
   "nbconvert_exporter": "python",
   "pygments_lexer": "ipython3",
   "version": "3.5.5"
  }
 },
 "nbformat": 4,
 "nbformat_minor": 2
}
